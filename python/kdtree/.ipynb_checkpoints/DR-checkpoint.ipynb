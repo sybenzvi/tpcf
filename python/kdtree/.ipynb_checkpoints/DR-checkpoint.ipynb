{
 "cells": [
  {
   "cell_type": "code",
   "execution_count": 1,
   "metadata": {
    "collapsed": true
   },
   "outputs": [],
   "source": [
    "%matplotlib inline\n",
    "\n",
    "import numpy as np\n",
    "import matplotlib as mpl\n",
    "import matplotlib.pyplot as plt\n",
    "from matplotlib import gridspec\n",
    "# from rootpy.io import root_open\n",
    "from sklearn.neighbors import BallTree, DistanceMetric\n",
    "\n",
    "mpl.rc('font', size=15)"
   ]
  },
  {
   "cell_type": "code",
   "execution_count": 2,
   "metadata": {
    "collapsed": true
   },
   "outputs": [],
   "source": [
    "# convert ROOT histogram into numpy arrays\n",
    "def convert_to_array(hist):\n",
    "    n = hist.GetNbinsX()   # number of bins\n",
    "    axis = hist.GetXaxis() \n",
    "    \n",
    "    # output\n",
    "    bins = np.empty(n+1)\n",
    "    entries = np.empty(n)\n",
    "    for i in xrange(n):\n",
    "        entries[i] = hist.GetBinContent(i+1)\n",
    "        bins[i] = axis.GetBinLowEdge(i+1)\n",
    "    bins[i+1] = axis.GetBinUpEdge(n)\n",
    "    \n",
    "    return entries, bins"
   ]
  },
  {
   "cell_type": "code",
   "execution_count": 3,
   "metadata": {
    "collapsed": true
   },
   "outputs": [],
   "source": [
    "# convert ROOT histogram into numpy arrays\n",
    "def convert_to_array2(hist2d):\n",
    "    n_x = hist2d.GetNbinsX()   # number of bins x\n",
    "    n_y = hist2d.GetNbinsY()   # number of bins y\n",
    "    \n",
    "    axis_x = hist2d.GetXaxis() \n",
    "    axis_y = hist2d.GetYaxis()\n",
    "    \n",
    "    # output\n",
    "    bins_x = np.empty(n_x+1)\n",
    "    bins_y = np.empty(n_y+1)\n",
    "    entries = np.empty((n_x, n_y))\n",
    "    for i in xrange(n_x):\n",
    "        for j in xrange(n_y):\n",
    "            entries[i, j] =  hist2d.GetBinContent(i+1, j+1)\n",
    "    \n",
    "    for i in xrange(n_x):\n",
    "        bins_x[i] = axis_x.GetBinLowEdge(i+1)\n",
    "    bins_x[n_x] = axis_x.GetBinUpEdge(n_x)\n",
    "    \n",
    "    for i in xrange(n_y):\n",
    "        bins_y[i] = axis_y.GetBinLowEdge(i+1)\n",
    "    bins_y[n_y] = axis_y.GetBinUpEdge(n_y)\n",
    "    \n",
    "    return entries, bins_x, bins_y"
   ]
  },
  {
   "cell_type": "markdown",
   "metadata": {},
   "source": [
    "# Import data "
   ]
  },
  {
   "cell_type": "code",
   "execution_count": 4,
   "metadata": {
    "collapsed": true
   },
   "outputs": [],
   "source": [
    "# import data\n",
    "catalog_dir = \"/home/chris/project/bao/correlation/catalog/\"\n",
    "random_filename = catalog_dir+\"boss/randoms_DR9_CMASS_North_DC.dat\"\n",
    "data_filename = catalog_dir+\"boss/galaxies_DR9_CMASS_North_DC.dat\"\n",
    "\n",
    "ra, dec, r, w = np.genfromtxt(random_filename, skip_header=1, unpack=True)\n",
    "rand_cat = np.array([dec, ra, r, w]).T\n",
    "\n",
    "ra, dec, r, w = np.genfromtxt(data_filename, skip_header=1, unpack=True)\n",
    "data_cat = np.array([dec, ra, r, w]).T"
   ]
  },
  {
   "cell_type": "markdown",
   "metadata": {},
   "source": [
    "# Construct DR\n",
    "## Defing binning"
   ]
  },
  {
   "cell_type": "code",
   "execution_count": 5,
   "metadata": {
    "collapsed": true
   },
   "outputs": [],
   "source": [
    "# define constant\n",
    "degtorad = np.pi/180.\n",
    "radtodeg = 180./np.pi\n",
    "\n",
    "n_rand = rand_cat.shape[0]\n",
    "n_data = data_cat.shape[0]\n",
    "\n",
    "# define boundaries\n",
    "s_max = 200.   # Mpc/h\n",
    "dec_min = np.minimum(rand_cat[:,0].min(), data_cat[:,0].min())\n",
    "dec_max = np.minimum(rand_cat[:,0].max(), data_cat[:,0].max())\n",
    "ra_min = np.minimum(rand_cat[:,1].min(), data_cat[:,1].min())\n",
    "ra_max = np.maximum(rand_cat[:,1].max(), data_cat[:,1].max())\n",
    "r_min = np.minimum(rand_cat[:,2].min(), data_cat[:,2].min())\n",
    "r_max = np.maximum(rand_cat[:,2].max(), data_cat[:,2].max())\n",
    "theta_max = np.arccos(1-0.5*s_max**2/r_min**2)\n",
    "\n",
    "# define binnings\n",
    "binwidth_ra = 0.25  # deg\n",
    "binwidth_dec = 0.25  # deg\n",
    "binwidth_theta = 0.1  # deg\n",
    "binwidth_r = 1.00   # Mpc/h\n",
    "binwidth_s = 4.0   # Mpc/h\n",
    "nbin_ra = int(np.ceil((ra_max-ra_min)/binwidth_ra))\n",
    "nbin_dec = int(np.ceil((dec_max-dec_min)/binwidth_dec))\n",
    "nbin_theta = int(np.ceil(theta_max/(degtorad*binwidth_theta)))\n",
    "nbin_r = int(np.ceil((r_max-r_min)/binwidth_r))\n",
    "nbin_s = int(np.ceil((s_max)/binwidth_s))"
   ]
  },
  {
   "cell_type": "markdown",
   "metadata": {},
   "source": [
    "## Construct P(r)"
   ]
  },
  {
   "cell_type": "code",
   "execution_count": 6,
   "metadata": {
    "collapsed": true
   },
   "outputs": [],
   "source": [
    "# construct RR(s)\n",
    "# construct P(r)\n",
    "r_hist, bins_r = np.histogram(rand_cat[:,2], nbin_r)\n",
    "r_hist = 1.*r_hist/n_rand"
   ]
  },
  {
   "cell_type": "markdown",
   "metadata": {},
   "source": [
    "## Construct g(theta, r)"
   ]
  },
  {
   "cell_type": "code",
   "execution_count": 24,
   "metadata": {
    "collapsed": true
   },
   "outputs": [],
   "source": [
    "import numpy"
   ]
  },
  {
   "cell_type": "code",
   "execution_count": 26,
   "metadata": {
    "collapsed": true
   },
   "outputs": [],
   "source": [
    "def histogram2points(hist, bins_x, bins_y, exclude_zeros=True):\n",
    "    ''' Convert 2-d histogram into data points with weight.\n",
    "        Take bincenters as data points.\n",
    "        Parameters:\n",
    "        + hist:  2-d numpy array\n",
    "            The values of of the histogram.\n",
    "            Dimension must be [Nx, Ny], the number of bins in X and Y\n",
    "        + bins_x:  numpy array\n",
    "            Binedges in X, length must be Nx+1\n",
    "        + bins_y:  numpy array\n",
    "            Binedges in Y, length must be Nx+1\n",
    "        + exclude_zeros: bool (default = True)\n",
    "            Excluded zeros bins\n",
    "        Outputs:\n",
    "        + data: 2-d numpy array\n",
    "            Array of data points with weight. Format [X,Y,Weight]\n",
    "        '''\n",
    "    center_x = 0.5*(bins_x[:-1]+bins_x[1:])\n",
    "    center_y = 0.5*(bins_y[:-1]+bins_y[1:])\n",
    "    grid_x, grid_y = numpy.meshgrid(center_x, center_y)\n",
    "    grid_x = grid_x.flatten()\n",
    "    grid_y = grid_y.flatten()\n",
    "    hist = hist.T.flatten()\n",
    "\n",
    "    # Create data array with non-zero bins\n",
    "    data = numpy.array([grid_x, grid_y, hist]).T\n",
    "    if exclude_zeros:\n",
    "        return data[hist > 0]\n",
    "    return data"
   ]
  },
  {
   "cell_type": "code",
   "execution_count": null,
   "metadata": {},
   "outputs": [],
   "source": [
    "temp_angular = numpy.histogram2d(degtorad*rand_cat[:, 0], degtorad*rand_cat[:, 1], (nbin_dec, nbin_ra))\n",
    "angular_distr = histogram2points(*temp_angular)\n",
    "\n",
    "# create a BallTree and compute g(theta, r) up to self.__theta_max\n",
    "arc_tree2 = BallTree(data[:, :2], leaf_size=1,\n",
    "                    metric='haversine')\n",
    "r_theta_test = numpy.zeros((nbin_theta, nbin_r))\n",
    "\n",
    "for i, point in enumerate(data_cat):\n",
    "    if i % 10000 is 0:\n",
    "        print(i)\n",
    "    index, theta = arc_tree.query_radius(degtorad*point[:2].reshape(1, -1),\n",
    "                                         r=theta_max,\n",
    "                                         return_distance=True)\n",
    "    temp_r = numpy.ones_like(theta[0])*point[2]\n",
    "    temp_weight = data_cat[:,2][index[0]]\n",
    "    h, bins_theta, bins_r = numpy.histogram2d(\n",
    "        theta[0], temp_r,\n",
    "        bins=(bins_theta, bins_r),\n",
    "        weights=temp_weight)\n",
    "    r_theta_test += h"
   ]
  },
  {
   "cell_type": "code",
   "execution_count": null,
   "metadata": {
    "collapsed": true
   },
   "outputs": [],
   "source": []
  },
  {
   "cell_type": "code",
   "execution_count": 7,
   "metadata": {
    "collapsed": true
   },
   "outputs": [],
   "source": [
    "# construct R(ra, dec)\n",
    "angular_counts, ra_edges, dec_edges = np.histogram2d(rand_cat[:,1], rand_cat[:,0], (nbin_ra, nbin_dec))\n",
    "angular_counts = angular_counts.T\n",
    "\n",
    "# generate data set with weight\n",
    "ra_centers = 0.5*(ra_edges[:-1]+ra_edges[1:])\n",
    "dec_centers = 0.5*(dec_edges[:-1]+dec_edges[1:])\n",
    "ra_grid, dec_grid = np.meshgrid(ra_centers, dec_centers)\n",
    "ra_grid = ra_grid.flatten()\n",
    "dec_grid = dec_grid.flatten()\n",
    "angular_counts = angular_counts.flatten()\n",
    "\n",
    "data = np.array([degtorad*dec_grid, degtorad*ra_grid, angular_counts]).T\n",
    "data = data[angular_counts>0]\n",
    "\n",
    "# create Tree\n",
    "arc_tree = BallTree(data[:,:2], leaf_size=1, metric='haversine')"
   ]
  },
  {
   "cell_type": "code",
   "execution_count": 29,
   "metadata": {},
   "outputs": [
    {
     "name": "stdout",
     "output_type": "stream",
     "text": [
      "0\n",
      "10000\n",
      "20000\n",
      "30000\n",
      "40000\n",
      "50000\n",
      "60000\n",
      "70000\n",
      "80000\n",
      "90000\n",
      "100000\n",
      "110000\n",
      "120000\n",
      "130000\n",
      "140000\n",
      "150000\n",
      "160000\n",
      "170000\n",
      "180000\n",
      "190000\n",
      "200000\n"
     ]
    }
   ],
   "source": [
    "r_theta_test = numpy.zeros((nbin_theta, nbin_r))\n",
    "for i, point in enumerate(data_cat):\n",
    "    if i % 10000 is 0:\n",
    "        print(i)\n",
    "    index, theta = arc_tree2.query_radius(degtorad*point[:2].reshape(1, -1),\n",
    "                                         r=theta_max,\n",
    "                                         return_distance=True)\n",
    "    temp_r = numpy.ones_like(theta[0])*point[2]\n",
    "    temp_weight = data[:,2][index[0]]\n",
    "    h, bins_theta, bins_r = numpy.histogram2d(\n",
    "        theta[0], temp_r,\n",
    "        bins=(bins_theta, bins_r),\n",
    "        weights=temp_weight)\n",
    "    r_theta_test += h"
   ]
  },
  {
   "cell_type": "code",
   "execution_count": 30,
   "metadata": {},
   "outputs": [
    {
     "data": {
      "text/plain": [
       "array([[   4798.,    3237.,    4158., ...,    4184.,    4716.,    4248.],\n",
       "       [  12833.,   10171.,   10172., ...,   10383.,   13278.,   12867.],\n",
       "       [  22537.,   17609.,   19925., ...,   20507.,   23290.,   21599.],\n",
       "       ..., \n",
       "       [ 368532.,  269281.,  338023., ...,  310737.,  370919.,  320129.],\n",
       "       [ 363597.,  266756.,  336402., ...,  307594.,  379587.,  325098.],\n",
       "       [ 369850.,  270074.,  348776., ...,  311827.,  376911.,  317983.]])"
      ]
     },
     "execution_count": 30,
     "metadata": {},
     "output_type": "execute_result"
    }
   ],
   "source": [
    "r_theta_test"
   ]
  },
  {
   "cell_type": "code",
   "execution_count": 31,
   "metadata": {},
   "outputs": [
    {
     "data": {
      "text/plain": [
       "array([[   4798.,    3237.,    4158., ...,    4184.,    4716.,    4248.],\n",
       "       [  12833.,   10171.,   10172., ...,   10383.,   13278.,   12867.],\n",
       "       [  22537.,   17609.,   19925., ...,   20507.,   23290.,   21599.],\n",
       "       ..., \n",
       "       [ 368532.,  269281.,  338023., ...,  310737.,  370919.,  320129.],\n",
       "       [ 363597.,  266756.,  336402., ...,  307594.,  379587.,  325098.],\n",
       "       [ 369850.,  270074.,  348776., ...,  311827.,  376911.,  317983.]])"
      ]
     },
     "execution_count": 31,
     "metadata": {},
     "output_type": "execute_result"
    }
   ],
   "source": [
    "r_theta_hist"
   ]
  },
  {
   "cell_type": "code",
   "execution_count": 13,
   "metadata": {},
   "outputs": [
    {
     "name": "stdout",
     "output_type": "stream",
     "text": [
      "0\n",
      "10000\n",
      "20000\n",
      "30000\n",
      "40000\n",
      "50000\n",
      "60000\n",
      "70000\n",
      "80000\n",
      "90000\n",
      "100000\n",
      "110000\n",
      "120000\n",
      "130000\n",
      "140000\n",
      "150000\n",
      "160000\n",
      "170000\n",
      "180000\n",
      "190000\n",
      "200000\n"
     ]
    }
   ],
   "source": [
    "# compute g(theta, theta)\n",
    "bins_theta = np.linspace(0., theta_max, nbin_theta+1)\n",
    "r_theta_hist = np.zeros((nbin_theta, nbin_r))\n",
    "for i, point in enumerate(data_cat):\n",
    "    if i%10000 is 0:\n",
    "        print i\n",
    "    index, theta = arc_tree.query_radius(degtorad*point[:2].reshape(1,-1), r=theta_max, return_distance=True)\n",
    "    index = index[0]\n",
    "    theta = theta[0]\n",
    "    rtemp = np.ones_like(theta)*point[2]\n",
    "    temp_hist, _, _ = np.histogram2d(theta, rtemp, bins=(bins_theta, bins_r), weights = data[:,2][index])\n",
    "    r_theta_hist += temp_hist"
   ]
  },
  {
   "cell_type": "code",
   "execution_count": null,
   "metadata": {
    "collapsed": true
   },
   "outputs": [],
   "source": [
    "from rootpy.io import root_open\n",
    "\n",
    "root_filename = \"/home/chris/project/bao/correlation/tpcf/test/r_theta.root\"\n",
    "\n",
    "#import ROOT histogram and convert to NumPy array\n",
    "rootfile = root_open(root_filename, \"read\")\n",
    "r_theta_root, bins_theta_root, bins_r_root = convert_to_array2(rootfile.Get(\"r_theta_hist\"))"
   ]
  },
  {
   "cell_type": "code",
   "execution_count": null,
   "metadata": {},
   "outputs": [],
   "source": [
    "r_theta_root[:,1:-1]"
   ]
  },
  {
   "cell_type": "code",
   "execution_count": null,
   "metadata": {},
   "outputs": [],
   "source": [
    "r_theta_hist"
   ]
  },
  {
   "cell_type": "markdown",
   "metadata": {},
   "source": [
    "## Construct DR"
   ]
  },
  {
   "cell_type": "code",
   "execution_count": 16,
   "metadata": {
    "collapsed": true
   },
   "outputs": [],
   "source": [
    "def separation(r1, r2, theta):\n",
    "    return np.sqrt(r1**2+r2**2-2*r1*r2*np.cos(theta))"
   ]
  },
  {
   "cell_type": "code",
   "execution_count": 17,
   "metadata": {
    "collapsed": true
   },
   "outputs": [],
   "source": [
    "r_centers = 0.5*(bins_r[1:]+bins_r[:-1])\n",
    "theta_centers = 0.5*(bins_theta[1:]+bins_theta[:-1])"
   ]
  },
  {
   "cell_type": "code",
   "execution_count": 18,
   "metadata": {
    "collapsed": true
   },
   "outputs": [],
   "source": [
    "w = r_theta_hist.flatten()\n",
    "\n",
    "a, b = np.meshgrid(r_centers, theta_centers)\n",
    "a = a.flatten()\n",
    "b = b.flatten()\n",
    "\n",
    "c = np.array([a,b,w]).T\n",
    "c = c[w!=0]"
   ]
  },
  {
   "cell_type": "code",
   "execution_count": 19,
   "metadata": {},
   "outputs": [
    {
     "name": "stdout",
     "output_type": "stream",
     "text": [
      "0\n",
      "100\n",
      "200\n",
      "300\n",
      "400\n",
      "500\n",
      "600\n"
     ]
    }
   ],
   "source": [
    "bins_s = np.linspace(0., s_max, nbin_s+1)\n",
    "dr = np.zeros(nbin_s)\n",
    "for i, rtemp in enumerate(r_centers[r_hist!=0]):\n",
    "    if i%100 is 0:\n",
    "        print i\n",
    "    s = separation(rtemp, c[:,0], c[:,1])\n",
    "    temp_w = r_hist[i]*c[:,2]\n",
    "    temp_hist, _ = np.histogram(s, bins_s, weights = temp_w)\n",
    "    dr += temp_hist    "
   ]
  },
  {
   "cell_type": "code",
   "execution_count": 20,
   "metadata": {
    "collapsed": true
   },
   "outputs": [],
   "source": [
    "# normalize\n",
    "# unweighted\n",
    "norm_dr = n_rand*n_data\n",
    "dr_norm = dr/norm_dr"
   ]
  },
  {
   "cell_type": "code",
   "execution_count": 22,
   "metadata": {},
   "outputs": [
    {
     "data": {
      "text/plain": [
       "[<matplotlib.lines.Line2D at 0x7f3747dc95d0>]"
      ]
     },
     "execution_count": 22,
     "metadata": {},
     "output_type": "execute_result"
    },
    {
     "data": {
      "image/png": "[encoded data removed]",
      "text/plain": [
       "<matplotlib.figure.Figure at 0x7f378c5e6f10>"
      ]
     },
     "metadata": {},
     "output_type": "display_data"
    }
   ],
   "source": [
    "plt.plot(dr_norm)"
   ]
  },
  {
   "cell_type": "code",
   "execution_count": null,
   "metadata": {
    "collapsed": true
   },
   "outputs": [],
   "source": [
    "from rootpy.io import root_open\n",
    "\n",
    "root_filename = \"/home/chris/project/bao/correlation/tpcf/out/BOSS_North.root\"\n",
    "\n",
    "#import ROOT histogram and convert to NumPy array\n",
    "rootfile = root_open(root_filename, \"read\")\n",
    "dr_root, bins_root = convert_to_array(rootfile.Get(\"Unweighted\").Get(\"data_rand_uw\"))\n",
    "rr_root, bins_root = convert_to_array(rootfile.Get(\"Unweighted\").Get(\"rand_rand_uw\"))\n",
    "dd_root, bins_root = convert_to_array(rootfile.Get(\"Unweighted\").Get(\"data_data_uw\"))"
   ]
  },
  {
   "cell_type": "code",
   "execution_count": null,
   "metadata": {},
   "outputs": [],
   "source": [
    "fig = plt.figure(figsize=(12,7))\n",
    "gs  = gridspec.GridSpec(2, 2, width_ratios=[10,3], height_ratios=[10,2])\n",
    "ax1 = plt.subplot(gs[0])\n",
    "ax2 = plt.subplot(gs[2], sharex = ax1)\n",
    "\n",
    "# plot two histograms on top of each other\n",
    "x = 0.5*(bins_s[:-1]+bins_s[1:])\n",
    "ax1.scatter(x, dr_norm, label = 'KD Tree')\n",
    "ax1.plot(x, dr_root, color = 'g', label = 'ROOT')\n",
    "ax1.set(ylim = [-0.00001,0.0012],\n",
    "        ylabel='Counts')\n",
    "\n",
    "ax2.plot(x, dr_norm-dr_root)\n",
    "ax2.set(xlabel='s [Mpc/h]',\n",
    "        ylabel='Difference')\n",
    "\n",
    "ax1.legend()\n",
    "fig.tight_layout()"
   ]
  },
  {
   "cell_type": "markdown",
   "metadata": {},
   "source": [
    "## Save result"
   ]
  },
  {
   "cell_type": "code",
   "execution_count": null,
   "metadata": {
    "collapsed": true
   },
   "outputs": [],
   "source": [
    "np.savez(\"dr\", DR=dr_norm, BINS=bins_s)"
   ]
  },
  {
   "cell_type": "code",
   "execution_count": null,
   "metadata": {
    "collapsed": true
   },
   "outputs": [],
   "source": [
    "dd_norm = np.load(\"dd.npz\")['DD']\n",
    "rr_norm = np.load(\"rr.npz\")['RR']"
   ]
  },
  {
   "cell_type": "code",
   "execution_count": null,
   "metadata": {},
   "outputs": [],
   "source": [
    "tpcf = x**2*(dd_norm-2*dr_norm+rr_norm)/rr_norm\n",
    "tpcf_root = x**2*(dd_root-2*dr_root+rr_root)/rr_root\n",
    "\n",
    "fig = plt.figure(figsize=(12,12))\n",
    "\n",
    "plt.plot(bins_s[1:], tpcf)\n",
    "plt.plot(bins_s[1:], tpcf_root)\n",
    "\n",
    "plt.xlim()"
   ]
  }
 ],
 "metadata": {
  "kernelspec": {
   "display_name": "Python 2",
   "language": "python",
   "name": "python2"
  },
  "language_info": {
   "codemirror_mode": {
    "name": "ipython",
    "version": 2
   },
   "file_extension": ".py",
   "mimetype": "text/x-python",
   "name": "python",
   "nbconvert_exporter": "python",
   "pygments_lexer": "ipython2",
   "version": "2.7.12"
  }
 },
 "nbformat": 4,
 "nbformat_minor": 2
}
