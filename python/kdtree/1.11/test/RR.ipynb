{
 "cells": [
  {
   "cell_type": "code",
   "execution_count": 1,
   "metadata": {
    "collapsed": true
   },
   "outputs": [],
   "source": [
    "%matplotlib inline\n",
    "\n",
    "import numpy\n",
    "import numpy as np\n",
    "import matplotlib as mpl\n",
    "import matplotlib.pyplot as plt\n",
    "from matplotlib import gridspec\n",
    "# from rootpy.io import root_open\n",
    "from sklearn.neighbors import BallTree, DistanceMetric\n",
    "\n",
    "mpl.rc('font', size=15)"
   ]
  },
  {
   "cell_type": "code",
   "execution_count": 2,
   "metadata": {
    "collapsed": true
   },
   "outputs": [],
   "source": [
    "# convert ROOT histogram into numpy arrays\n",
    "def convert_to_array(hist):\n",
    "    n = hist.GetNbinsX()   # number of bins\n",
    "    axis = hist.GetXaxis() \n",
    "    \n",
    "    # output\n",
    "    bins = np.empty(n+1)\n",
    "    entries = np.empty(n)\n",
    "    for i in xrange(n):\n",
    "        entries[i] = hist.GetBinContent(i+1)\n",
    "        bins[i] = axis.GetBinLowEdge(i+1)\n",
    "    bins[i+1] = axis.GetBinUpEdge(n)\n",
    "    \n",
    "    return entries, bins"
   ]
  },
  {
   "cell_type": "markdown",
   "metadata": {},
   "source": [
    "# Import data "
   ]
  },
  {
   "cell_type": "code",
   "execution_count": 3,
   "metadata": {
    "collapsed": true
   },
   "outputs": [],
   "source": [
    "# import data\n",
    "catalog_dir = \"/home/chris/project/bao/correlation/catalog/\"\n",
    "random_filename = catalog_dir+\"boss/randoms_DR9_CMASS_North_DC.dat\"\n",
    "\n",
    "ra, dec, r, weight = np.genfromtxt(random_filename, skip_header=1, unpack=True)"
   ]
  },
  {
   "cell_type": "markdown",
   "metadata": {},
   "source": [
    "# Construct RR\n",
    "## Defing binning"
   ]
  },
  {
   "cell_type": "code",
   "execution_count": 4,
   "metadata": {
    "collapsed": true
   },
   "outputs": [],
   "source": [
    "# define constant\n",
    "degtorad = np.pi/180.\n",
    "radtodeg = 180./np.pi\n",
    "\n",
    "n = len(ra)\n",
    "\n",
    "# define binning \n",
    "s_max = 200.   # Mpc/h\n",
    "theta_max = np.arccos(1-0.5*s_max**2/r.min()**2) # in rad\n",
    "binwidth_ra = 0.25 # deg\n",
    "binwidth_dec = 0.25  # deg\n",
    "binwidth_theta = 0.1  # deg\n",
    "binwidth_r = 1.00   # Mpc/h\n",
    "binwidth_s = 4.0   # Mpc/h\n",
    "nbin_ra = int(np.ceil((ra.max()-ra.min())/binwidth_ra))\n",
    "nbin_dec = int(np.ceil((dec.max()-dec.min())/binwidth_dec))\n",
    "nbin_theta = int(np.ceil(theta_max/(degtorad*binwidth_theta)))\n",
    "nbin_r = int(np.ceil((r.max()-r.min())/binwidth_r))\n",
    "nbin_s = int(np.ceil((s_max)/binwidth_s))"
   ]
  },
  {
   "cell_type": "markdown",
   "metadata": {},
   "source": [
    "## Construct P(r)"
   ]
  },
  {
   "cell_type": "code",
   "execution_count": 15,
   "metadata": {
    "collapsed": true
   },
   "outputs": [],
   "source": [
    "# construct RR(s)\n",
    "# construct P(r)\n",
    "r_hist, bins_r = np.histogram(r, nbin_r)\n",
    "\n",
    "r_hist = 1.*r_hist/n"
   ]
  },
  {
   "cell_type": "markdown",
   "metadata": {},
   "source": [
    "## Construct f(theta)"
   ]
  },
  {
   "cell_type": "code",
   "execution_count": 6,
   "metadata": {
    "collapsed": true
   },
   "outputs": [],
   "source": [
    "def histogram2points(hist, bins_x, bins_y, exclude_zeros=True):\n",
    "    ''' Convert 2-d histogram into data points with weight.\n",
    "        Take bincenters as data points.\n",
    "        Parameters:\n",
    "        + hist:  2-d numpy array\n",
    "            The values of of the histogram.\n",
    "            Dimension must be [Nx, Ny], the number of bins in X and Y\n",
    "        + bins_x:  numpy array\n",
    "            Binedges in X, length must be Nx+1\n",
    "        + bins_y:  numpy array\n",
    "            Binedges in Y, length must be Nx+1\n",
    "        + exclude_zeros: bool (default = True)\n",
    "            Excluded zeros bins\n",
    "        Outputs:\n",
    "        + data: 2-d numpy array\n",
    "            Array of data points with weight. Format [X,Y,Weight]\n",
    "        '''\n",
    "    center_x = 0.5*(bins_x[:-1]+bins_x[1:])\n",
    "    center_y = 0.5*(bins_y[:-1]+bins_y[1:])\n",
    "    grid_x, grid_y = numpy.meshgrid(center_x, center_y)\n",
    "    grid_x = grid_x.flatten()\n",
    "    grid_y = grid_y.flatten()\n",
    "    hist = hist.T.flatten()\n",
    "\n",
    "    # Create data array with non-zero bins\n",
    "    data = numpy.array([grid_x, grid_y, hist]).T\n",
    "    if exclude_zeros:\n",
    "        return data[hist > 0]\n",
    "    return data"
   ]
  },
  {
   "cell_type": "code",
   "execution_count": 7,
   "metadata": {},
   "outputs": [],
   "source": [
    "a = histogram2points(*np.histogram2d(dec, ra, (nbin_dec, nbin_ra)))"
   ]
  },
  {
   "cell_type": "code",
   "execution_count": 8,
   "metadata": {},
   "outputs": [
    {
     "data": {
      "text/plain": [
       "(240, 620)"
      ]
     },
     "execution_count": 8,
     "metadata": {},
     "output_type": "execute_result"
    }
   ],
   "source": [
    "nbin_dec,nbin_ra"
   ]
  },
  {
   "cell_type": "code",
   "execution_count": 9,
   "metadata": {
    "collapsed": true
   },
   "outputs": [],
   "source": [
    "# construct R(ra, dec)\n",
    "angular_counts, ra_edges, dec_edges = np.histogram2d(ra, dec, (nbin_ra, nbin_dec))\n",
    "angular_counts = angular_counts.T\n",
    "\n",
    "# generate data set with weight\n",
    "ra_centers = 0.5*(ra_edges[:-1]+ra_edges[1:])\n",
    "dec_centers = 0.5*(dec_edges[:-1]+dec_edges[1:])\n",
    "ra_grid, dec_grid = np.meshgrid(ra_centers, dec_centers)\n",
    "ra_grid = ra_grid.flatten()\n",
    "dec_grid = dec_grid.flatten()\n",
    "angular_counts = angular_counts.flatten()\n",
    "\n",
    "data = np.array([degtorad*dec_grid, degtorad*ra_grid, angular_counts]).T\n",
    "data = data[angular_counts>0]\n",
    "\n",
    "# create Tree\n",
    "arc_tree = BallTree(data[:,:2], leaf_size=1, metric='haversine')"
   ]
  },
  {
   "cell_type": "code",
   "execution_count": 10,
   "metadata": {},
   "outputs": [
    {
     "name": "stdout",
     "output_type": "stream",
     "text": [
      "0\n",
      "10000\n",
      "20000\n",
      "30000\n",
      "40000\n",
      "50000\n"
     ]
    }
   ],
   "source": [
    "# compute f(theta)\n",
    "bins_theta = np.linspace(0., theta_max, nbin_theta+1)\n",
    "theta_hist = np.zeros(nbin_theta)\n",
    "for i, point in enumerate(data):\n",
    "    if i%10000 is 0:\n",
    "        print i\n",
    "    index, theta = arc_tree.query_radius(point[:2].reshape(1,-1), r=theta_max, return_distance=True)\n",
    "    index = index[0]\n",
    "    theta = theta[0]\n",
    "    temp_weight = point[2]*data[:,2][index]\n",
    "    temp_hist, _ = np.histogram(theta, bins=bins_theta, weights=temp_weight)\n",
    "    theta_hist += temp_hist\n",
    "    \n",
    "theta_hist = theta_hist/2."
   ]
  },
  {
   "cell_type": "code",
   "execution_count": 11,
   "metadata": {},
   "outputs": [
    {
     "data": {
      "text/plain": [
       "[<matplotlib.lines.Line2D at 0x7fbe1c4126d0>]"
      ]
     },
     "execution_count": 11,
     "metadata": {},
     "output_type": "execute_result"
    },
    {
     "data": {
      "image/png": "[encoded data removed]",
      "text/plain": [
       "<matplotlib.figure.Figure at 0x7fbe594a56d0>"
      ]
     },
     "metadata": {},
     "output_type": "display_data"
    }
   ],
   "source": [
    "x = 0.5*(bins_theta[:-1]+bins_theta [1:])\n",
    "plt.plot(x, theta_hist)\n",
    "# plt.plot(x, theta_root)"
   ]
  },
  {
   "cell_type": "markdown",
   "metadata": {},
   "source": [
    "## Construct RR"
   ]
  },
  {
   "cell_type": "code",
   "execution_count": 16,
   "metadata": {
    "collapsed": true
   },
   "outputs": [],
   "source": [
    "def separation(r1, r2, theta):\n",
    "    return np.sqrt(r1**2+r2**2-2*r1*r2*np.cos(theta))"
   ]
  },
  {
   "cell_type": "code",
   "execution_count": 17,
   "metadata": {
    "collapsed": true
   },
   "outputs": [],
   "source": [
    "r_centers = 0.5*(bins_r[1:]+bins_r[:-1])\n",
    "theta_centers = 0.5*(bins_theta[1:]+bins_theta[:-1])"
   ]
  },
  {
   "cell_type": "code",
   "execution_count": 18,
   "metadata": {},
   "outputs": [],
   "source": [
    "w = np.zeros((theta_centers.size, r_centers.size))\n",
    "for i in xrange(theta_centers.size):\n",
    "    for j in xrange(r_centers.size):\n",
    "        w[i,j] = theta_hist[i]*r_hist[j]\n",
    "w = w.flatten()\n",
    "\n",
    "a, b = np.meshgrid(r_centers, theta_centers)\n",
    "a = a.flatten()\n",
    "b = b.flatten()\n",
    "\n",
    "c = np.array([a,b,w]).T\n",
    "c = c[w!=0]"
   ]
  },
  {
   "cell_type": "code",
   "execution_count": 19,
   "metadata": {},
   "outputs": [
    {
     "name": "stdout",
     "output_type": "stream",
     "text": [
      "[[  8.67786671e-04   1.16592990e+03   6.88159097e+04]\n",
      " [  2.60336001e-03   1.16592990e+03   1.86400320e+04]\n",
      " [  4.33893335e-03   1.16592990e+03   2.51226781e+05]\n",
      " ..., \n",
      " [  1.67482827e-01   1.77281010e+03   2.66271088e+06]\n",
      " [  1.69218401e-01   1.77281010e+03   2.71652152e+06]\n",
      " [  1.70953974e-01   1.77281010e+03   2.84862282e+06]]\n",
      "0\n",
      "100\n",
      "200\n",
      "300\n",
      "400\n",
      "500\n",
      "600\n"
     ]
    }
   ],
   "source": [
    "weight = numpy.zeros((theta_hist.size, r_hist.size))\n",
    "for i in range(theta_hist.size):\n",
    "    for j in range(r_hist.size):\n",
    "        weight[i, j] = theta_hist[i]*r_hist[j]\n",
    "temp = histogram2points(weight, bins_theta, bins_r)\n",
    "print(temp)\n",
    "\n",
    "centers_r = 0.5*(bins_r[:-1]+bins_r[1:])\n",
    "rand_rand = numpy.zeros(50)\n",
    "for i, temp_r in enumerate(centers_r[r_hist != 0]):\n",
    "    if i % 100 is 0:\n",
    "        print(i)\n",
    "    temp_s = separation(temp_r, temp[:, 1], temp[:, 0])\n",
    "    temp_weight = r_hist[i]*temp[:, 2]\n",
    "    temp_hist, bins_s = numpy.histogram(temp_s, 50,\n",
    "                                        range=(0, 200),\n",
    "                                        weights=temp_weight)\n",
    "    rand_rand += temp_hist"
   ]
  },
  {
   "cell_type": "code",
   "execution_count": 20,
   "metadata": {},
   "outputs": [
    {
     "name": "stdout",
     "output_type": "stream",
     "text": [
      "0\n",
      "100\n",
      "200\n",
      "300\n",
      "400\n",
      "500\n",
      "600\n"
     ]
    }
   ],
   "source": [
    "bins_s = np.linspace(0., s_max, nbin_s+1)\n",
    "rr = np.zeros(nbin_s)\n",
    "for i, rtemp in enumerate(r_centers[radial_hist_uw!=0]):\n",
    "    if i%100 is 0:\n",
    "        print i\n",
    "    s = separation(rtemp, c[:,0], c[:,1])\n",
    "    temp_hist, _ = np.histogram(s, bins_s, weights = radial_hist_uw[i]*c[:,2])\n",
    "    rr += temp_hist"
   ]
  },
  {
   "cell_type": "code",
   "execution_count": 21,
   "metadata": {
    "collapsed": true
   },
   "outputs": [],
   "source": [
    "# normalize\n",
    "# unweighted\n",
    "norm_rr_uw = n*(n-1)/2\n",
    "rr_norm = rr/norm_rr_uw\n",
    "rr_test = rand_rand/norm_rr_uw"
   ]
  },
  {
   "cell_type": "code",
   "execution_count": 22,
   "metadata": {},
   "outputs": [
    {
     "data": {
      "application/javascript": [
       "\n",
       "require(['notebook'],\n",
       "  function() {\n",
       "    IPython.CodeCell.config_defaults.highlight_modes['magic_text/x-c++src'] = {'reg':[/^%%cpp/]};\n",
       "    console.log(\"JupyROOT - %%cpp magic configured\");\n",
       "  }\n",
       ");\n"
      ]
     },
     "metadata": {},
     "output_type": "display_data"
    },
    {
     "name": "stdout",
     "output_type": "stream",
     "text": [
      "Welcome to JupyROOT 6.08/06\n"
     ]
    }
   ],
   "source": [
    "from rootpy.io import root_open\n",
    "\n",
    "root_filename = \"/home/chris/project/bao/correlation/tpcf/out/BOSS_North.root\"\n",
    "\n",
    "#import ROOT histogram and convert to NumPy array\n",
    "rootfile = root_open(root_filename, \"read\")\n",
    "rr_root, bins_root = convert_to_array(rootfile.Get(\"Unweighted\").Get(\"rand_rand_uw\"))\n",
    "dd_root, _ = convert_to_array(rootfile.Get(\"Unweighted\").Get(\"data_data_uw\"))"
   ]
  },
  {
   "cell_type": "code",
   "execution_count": 28,
   "metadata": {},
   "outputs": [
    {
     "data": {
      "image/png": "[encoded data removed]",
      "text/plain": [
       "<matplotlib.figure.Figure at 0x7fbe401cc190>"
      ]
     },
     "metadata": {},
     "output_type": "display_data"
    }
   ],
   "source": [
    "fig = plt.figure(figsize=(12,7))\n",
    "gs  = gridspec.GridSpec(2, 2, width_ratios=[10,3], height_ratios=[10,2])\n",
    "ax1 = plt.subplot(gs[0])\n",
    "ax2 = plt.subplot(gs[2], sharex = ax1)\n",
    "\n",
    "# plot two histograms on top of each other\n",
    "x = 0.5*(bins_s[:-1]+bins_s[1:])\n",
    "ax1.scatter(x, rr_test, label = 'KD Tree')\n",
    "ax1.plot(x, rr_root, color = 'g', label = 'ROOT')\n",
    "ax1.set(ylim = [-0.00001,0.0012],\n",
    "        ylabel='Counts')\n",
    "\n",
    "ax2.plot(x, rr_norm-rr_root)\n",
    "ax2.set(xlabel='s [Mpc/h]',\n",
    "        ylabel='Difference')\n",
    "\n",
    "ax1.legend()\n",
    "fig.tight_layout()"
   ]
  },
  {
   "cell_type": "markdown",
   "metadata": {},
   "source": [
    "## Save result"
   ]
  },
  {
   "cell_type": "code",
   "execution_count": null,
   "metadata": {},
   "outputs": [],
   "source": [
    "np.savez(\"rr\", RR=rr_norm, BINS=bins_s)"
   ]
  },
  {
   "cell_type": "code",
   "execution_count": null,
   "metadata": {},
   "outputs": [],
   "source": [
    "f = np.load(\"test/rr.npz\")\n",
    "rr_test = f['RR']"
   ]
  },
  {
   "cell_type": "code",
   "execution_count": 282,
   "metadata": {},
   "outputs": [
    {
     "data": {
      "text/plain": [
       "[<matplotlib.lines.Line2D at 0x7fb2480e6d50>]"
      ]
     },
     "execution_count": 282,
     "metadata": {},
     "output_type": "execute_result"
    },
    {
     "data": {
      "image/png": "[encoded data removed]",
      "text/plain": [
       "<matplotlib.figure.Figure at 0x7fb2480e6650>"
      ]
     },
     "metadata": {},
     "output_type": "display_data"
    }
   ],
   "source": [
    "tpcf = x**2*(dd_norm/rr_norm-1)\n",
    "tpcf_root = x**2*(dd_root/rr_root-1)\n",
    "plt.plot(bins_s[1:], tpcf)\n",
    "plt.plot(bins_s[1:], tpcf_root)"
   ]
  },
  {
   "cell_type": "code",
   "execution_count": null,
   "metadata": {
    "collapsed": true
   },
   "outputs": [],
   "source": []
  }
 ],
 "metadata": {
  "kernelspec": {
   "display_name": "Python 2",
   "language": "python",
   "name": "python2"
  },
  "language_info": {
   "codemirror_mode": {
    "name": "ipython",
    "version": 2
   },
   "file_extension": ".py",
   "mimetype": "text/x-python",
   "name": "python",
   "nbconvert_exporter": "python",
   "pygments_lexer": "ipython2",
   "version": "2.7.12"
  }
 },
 "nbformat": 4,
 "nbformat_minor": 2
}
