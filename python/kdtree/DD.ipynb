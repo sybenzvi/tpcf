{
 "cells": [
  {
   "cell_type": "code",
   "execution_count": 9,
   "metadata": {},
   "outputs": [
    {
     "data": {
      "application/javascript": [
       "\n",
       "require(['notebook'],\n",
       "  function() {\n",
       "    IPython.CodeCell.config_defaults.highlight_modes['magic_text/x-c++src'] = {'reg':[/^%%cpp/]};\n",
       "    console.log(\"JupyROOT - %%cpp magic configured\");\n",
       "  }\n",
       ");\n"
      ]
     },
     "metadata": {},
     "output_type": "display_data"
    },
    {
     "name": "stdout",
     "output_type": "stream",
     "text": [
      "Welcome to JupyROOT 6.08/06\n"
     ]
    }
   ],
   "source": [
    "%matplotlib inline\n",
    "\n",
    "import numpy as np\n",
    "import matplotlib as mpl\n",
    "import matplotlib.pyplot as plt\n",
    "from matplotlib import gridspec\n",
    "from rootpy.io import root_open\n",
    "from sklearn.neighbors import KDTree\n",
    "\n",
    "mpl.rc('font', size=15)"
   ]
  },
  {
   "cell_type": "code",
   "execution_count": 2,
   "metadata": {
    "collapsed": true
   },
   "outputs": [],
   "source": [
    "degtorad = np.pi/180.\n",
    "radtodeg = 180./np.pi"
   ]
  },
  {
   "cell_type": "code",
   "execution_count": 3,
   "metadata": {
    "collapsed": true
   },
   "outputs": [],
   "source": [
    "# convert ROOT histogram into numpy arrays\n",
    "def convert_to_array(hist):\n",
    "    n = hist.GetNbinsX()   # number of bins\n",
    "    axis = hist.GetXaxis() \n",
    "    \n",
    "    # output\n",
    "    bins = np.empty(n+1)\n",
    "    entries = np.empty(n)\n",
    "    for i in xrange(n):\n",
    "        entries[i] = hist.GetBinContent(i+1)\n",
    "        bins[i] = axis.GetBinLowEdge(i+1)\n",
    "    bins[i+1] = axis.GetBinUpEdge(n)\n",
    "    \n",
    "    return entries, bins"
   ]
  },
  {
   "cell_type": "markdown",
   "metadata": {},
   "source": [
    "# Compute DD(s)\n",
    "## Import and convert data into KDTree"
   ]
  },
  {
   "cell_type": "code",
   "execution_count": 37,
   "metadata": {
    "collapsed": true
   },
   "outputs": [],
   "source": [
    "filename = \"/home/chris/project/bao/correlation/catalog/boss/randoms_DR9_CMASS_North_DC.dat\"\n",
    "s_max = 200\n",
    "\n",
    "# import data and convert to x-y-z coordinate\n",
    "# conversion equation is\n",
    "# x = r*cos(dec)*cos(ra)\n",
    "# y = r*cos(dec)*sin(ra)\n",
    "# z = r*sin(dec)\n",
    "ra, dec, r, w = np.genfromtxt(filename, skip_header = 1, unpack = True)\n",
    "ra = degtorad*ra\n",
    "dec = degtorad*dec\n",
    "x = r*np.cos(dec)*np.cos(ra)\n",
    "y = r*np.cos(dec)*np.sin(ra)\n",
    "z = r*np.sin(dec)\n",
    "\n",
    "# create KDTree\n",
    "data = np.array([x, y, z]).T\n",
    "tree = KDTree(data, leaf_size=1, metric='euclidean')"
   ]
  },
  {
   "cell_type": "markdown",
   "metadata": {},
   "source": [
    "## Compute DD(s)"
   ]
  },
  {
   "cell_type": "code",
   "execution_count": 6,
   "metadata": {},
   "outputs": [
    {
     "name": "stdout",
     "output_type": "stream",
     "text": [
      "0\n",
      "10000\n",
      "20000\n",
      "30000\n",
      "40000\n",
      "50000\n",
      "60000\n",
      "70000\n",
      "80000\n",
      "90000\n",
      "100000\n",
      "110000\n",
      "120000\n",
      "130000\n",
      "140000\n",
      "150000\n",
      "160000\n",
      "170000\n",
      "180000\n",
      "190000\n",
      "200000\n"
     ]
    }
   ],
   "source": [
    "# compute DD(s)\n",
    "dd = np.zeros(50)\n",
    "bins = np.linspace(0., s_max, 51)\n",
    "for i, point in enumerate(data):\n",
    "    if i%10000 is 0:\n",
    "        print i\n",
    "    _, dist = tree.query_radius(point.reshape(1,-1), r=s_max, return_distance=True)\n",
    "    h,_  = np.histogram(dist[0], bins=bins) \n",
    "    dd += h"
   ]
  },
  {
   "cell_type": "code",
   "execution_count": 13,
   "metadata": {
    "collapsed": true
   },
   "outputs": [],
   "source": [
    "# normalize\n",
    "# unweighted\n",
    "n = len(data)\n",
    "norm_dd = n*(n-1)\n",
    "dd[0] -= n\n",
    "dd_norm = dd/norm_dd"
   ]
  },
  {
   "cell_type": "markdown",
   "metadata": {},
   "source": [
    "## Compare with ROOT DD(s)"
   ]
  },
  {
   "cell_type": "code",
   "execution_count": 14,
   "metadata": {},
   "outputs": [],
   "source": [
    "root_filename = \"/home/chris/project/bao/correlation/tpcf/out/BOSS_North.root\"\n",
    "\n",
    "#import ROOT histogram and convert to NumPy array\n",
    "rootfile = root_open(root_filename, \"read\")\n",
    "dd_root, bins_root = convert_to_array(rootfile.Get(\"Unweighted\").Get(\"data_data_uw\"))"
   ]
  },
  {
   "cell_type": "code",
   "execution_count": 15,
   "metadata": {},
   "outputs": [
    {
     "data": {
      "image/png": "[encoded data removed]",
      "text/plain": [
       "<matplotlib.figure.Figure at 0x7f57d4395890>"
      ]
     },
     "metadata": {},
     "output_type": "display_data"
    }
   ],
   "source": [
    "fig = plt.figure(figsize=(12,7))\n",
    "gs  = gridspec.GridSpec(2, 2, width_ratios=[10,3], height_ratios=[10,2])\n",
    "ax1 = plt.subplot(gs[0])\n",
    "ax2 = plt.subplot(gs[2], sharex = ax1)\n",
    "\n",
    "# plot two histograms on top of each other\n",
    "x = 0.5*(bins[:-1]+bins[1:])\n",
    "ax1.scatter(x, dd_norm, label = 'KD Tree')\n",
    "ax1.plot(x, dd_root, color = 'g', label = 'ROOT')\n",
    "ax1.set(ylim = [-0.00001,0.0012],\n",
    "        ylabel='Counts')\n",
    "\n",
    "ax2.plot(x, dd_norm-dd_root)\n",
    "ax2.set(xlabel='s [Mpc/h]',\n",
    "        ylabel='Difference')\n",
    "\n",
    "ax1.legend()\n",
    "fig.tight_layout()"
   ]
  },
  {
   "cell_type": "markdown",
   "metadata": {},
   "source": [
    "## Save"
   ]
  },
  {
   "cell_type": "code",
   "execution_count": 35,
   "metadata": {},
   "outputs": [],
   "source": [
    "np.savez(\"dd.npz\", DD=dd_norm, BINS=bins)"
   ]
  }
 ],
 "metadata": {
  "kernelspec": {
   "display_name": "Python 2",
   "language": "python",
   "name": "python2"
  },
  "language_info": {
   "codemirror_mode": {
    "name": "ipython",
    "version": 2
   },
   "file_extension": ".py",
   "mimetype": "text/x-python",
   "name": "python",
   "nbconvert_exporter": "python",
   "pygments_lexer": "ipython2",
   "version": "2.7.12"
  }
 },
 "nbformat": 4,
 "nbformat_minor": 2
}
